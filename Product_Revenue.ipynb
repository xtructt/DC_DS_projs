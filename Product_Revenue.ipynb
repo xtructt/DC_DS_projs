{
  "nbformat": 4,
  "nbformat_minor": 0,
  "metadata": {
    "colab": {
      "name": "Copy of Product_Revenue.ipynb",
      "provenance": [],
      "toc_visible": true,
      "authorship_tag": "ABX9TyNkQd53fmOap3oLyCv1ERcL",
      "include_colab_link": true
    },
    "kernelspec": {
      "name": "python3",
      "display_name": "Python 3"
    }
  },
  "cells": [
    {
      "cell_type": "markdown",
      "metadata": {
        "id": "view-in-github",
        "colab_type": "text"
      },
      "source": [
        "<a href=\"https://colab.research.google.com/github/xtructt/DC_DS_projs/blob/master/Product_Revenue.ipynb\" target=\"_parent\"><img src=\"https://colab.research.google.com/assets/colab-badge.svg\" alt=\"Open In Colab\"/></a>"
      ]
    },
    {
      "cell_type": "code",
      "metadata": {
        "id": "Gus6U_gwKTz8",
        "colab_type": "code",
        "colab": {}
      },
      "source": [
        "import pandas as pd\n",
        "import datetime"
      ],
      "execution_count": null,
      "outputs": []
    },
    {
      "cell_type": "markdown",
      "metadata": {
        "id": "OlzOg94jDFyz",
        "colab_type": "text"
      },
      "source": [
        "Read csv file into the data frame"
      ]
    },
    {
      "cell_type": "code",
      "metadata": {
        "id": "Ed2cZ9OGKxnG",
        "colab_type": "code",
        "colab": {}
      },
      "source": [
        "prices = pd.read_csv('/content/Data_FIle/prices.csv',parse_dates=True)\n",
        "sales = pd.read_csv('/content/Data_FIle/sales.csv',parse_dates=True)"
      ],
      "execution_count": null,
      "outputs": []
    },
    {
      "cell_type": "code",
      "metadata": {
        "id": "EQ66f-3OLBSg",
        "colab_type": "code",
        "colab": {
          "base_uri": "https://localhost:8080/",
          "height": 462
        },
        "outputId": "d4405b9d-5a3a-433f-b21d-0c296e1fcb19"
      },
      "source": [
        "prices\n"
      ],
      "execution_count": null,
      "outputs": [
        {
          "output_type": "execute_result",
          "data": {
            "text/html": [
              "<div>\n",
              "<style scoped>\n",
              "    .dataframe tbody tr th:only-of-type {\n",
              "        vertical-align: middle;\n",
              "    }\n",
              "\n",
              "    .dataframe tbody tr th {\n",
              "        vertical-align: top;\n",
              "    }\n",
              "\n",
              "    .dataframe thead th {\n",
              "        text-align: right;\n",
              "    }\n",
              "</style>\n",
              "<table border=\"1\" class=\"dataframe\">\n",
              "  <thead>\n",
              "    <tr style=\"text-align: right;\">\n",
              "      <th></th>\n",
              "      <th>product_id</th>\n",
              "      <th>old_price</th>\n",
              "      <th>new_price</th>\n",
              "      <th>updated_at</th>\n",
              "    </tr>\n",
              "  </thead>\n",
              "  <tbody>\n",
              "    <tr>\n",
              "      <th>0</th>\n",
              "      <td>64</td>\n",
              "      <td>270000</td>\n",
              "      <td>239000</td>\n",
              "      <td>9/10/18 16:37</td>\n",
              "    </tr>\n",
              "    <tr>\n",
              "      <th>1</th>\n",
              "      <td>3954203</td>\n",
              "      <td>60000</td>\n",
              "      <td>64000</td>\n",
              "      <td>9/11/18 11:54</td>\n",
              "    </tr>\n",
              "    <tr>\n",
              "      <th>2</th>\n",
              "      <td>3954203</td>\n",
              "      <td>60500</td>\n",
              "      <td>57500</td>\n",
              "      <td>9/17/18 22:59</td>\n",
              "    </tr>\n",
              "    <tr>\n",
              "      <th>3</th>\n",
              "      <td>3954203</td>\n",
              "      <td>64000</td>\n",
              "      <td>60500</td>\n",
              "      <td>9/15/18 3:49</td>\n",
              "    </tr>\n",
              "    <tr>\n",
              "      <th>4</th>\n",
              "      <td>3954203</td>\n",
              "      <td>68800</td>\n",
              "      <td>60000</td>\n",
              "      <td>9/10/18 16:32</td>\n",
              "    </tr>\n",
              "    <tr>\n",
              "      <th>5</th>\n",
              "      <td>3998909</td>\n",
              "      <td>15500</td>\n",
              "      <td>16500</td>\n",
              "      <td>9/16/18 5:09</td>\n",
              "    </tr>\n",
              "    <tr>\n",
              "      <th>6</th>\n",
              "      <td>3998909</td>\n",
              "      <td>17000</td>\n",
              "      <td>15500</td>\n",
              "      <td>9/13/18 6:43</td>\n",
              "    </tr>\n",
              "    <tr>\n",
              "      <th>7</th>\n",
              "      <td>3998909</td>\n",
              "      <td>19000</td>\n",
              "      <td>17000</td>\n",
              "      <td>9/10/18 16:35</td>\n",
              "    </tr>\n",
              "    <tr>\n",
              "      <th>8</th>\n",
              "      <td>4085861</td>\n",
              "      <td>53500</td>\n",
              "      <td>52000</td>\n",
              "      <td>9/17/18 22:59</td>\n",
              "    </tr>\n",
              "    <tr>\n",
              "      <th>9</th>\n",
              "      <td>4085861</td>\n",
              "      <td>53500</td>\n",
              "      <td>67000</td>\n",
              "      <td>9/12/18 3:51</td>\n",
              "    </tr>\n",
              "    <tr>\n",
              "      <th>10</th>\n",
              "      <td>4085861</td>\n",
              "      <td>58000</td>\n",
              "      <td>53500</td>\n",
              "      <td>9/17/18 3:35</td>\n",
              "    </tr>\n",
              "    <tr>\n",
              "      <th>11</th>\n",
              "      <td>4085861</td>\n",
              "      <td>60000</td>\n",
              "      <td>53500</td>\n",
              "      <td>9/11/18 8:51</td>\n",
              "    </tr>\n",
              "    <tr>\n",
              "      <th>12</th>\n",
              "      <td>4085861</td>\n",
              "      <td>62500</td>\n",
              "      <td>58000</td>\n",
              "      <td>9/15/18 3:51</td>\n",
              "    </tr>\n",
              "    <tr>\n",
              "      <th>13</th>\n",
              "      <td>4085861</td>\n",
              "      <td>67000</td>\n",
              "      <td>62500</td>\n",
              "      <td>9/13/18 6:43</td>\n",
              "    </tr>\n",
              "  </tbody>\n",
              "</table>\n",
              "</div>"
            ],
            "text/plain": [
              "    product_id  old_price  new_price     updated_at\n",
              "0           64     270000     239000  9/10/18 16:37\n",
              "1      3954203      60000      64000  9/11/18 11:54\n",
              "2      3954203      60500      57500  9/17/18 22:59\n",
              "3      3954203      64000      60500   9/15/18 3:49\n",
              "4      3954203      68800      60000  9/10/18 16:32\n",
              "5      3998909      15500      16500   9/16/18 5:09\n",
              "6      3998909      17000      15500   9/13/18 6:43\n",
              "7      3998909      19000      17000  9/10/18 16:35\n",
              "8      4085861      53500      52000  9/17/18 22:59\n",
              "9      4085861      53500      67000   9/12/18 3:51\n",
              "10     4085861      58000      53500   9/17/18 3:35\n",
              "11     4085861      60000      53500   9/11/18 8:51\n",
              "12     4085861      62500      58000   9/15/18 3:51\n",
              "13     4085861      67000      62500   9/13/18 6:43"
            ]
          },
          "metadata": {
            "tags": []
          },
          "execution_count": 58
        }
      ]
    },
    {
      "cell_type": "code",
      "metadata": {
        "id": "WwuMDdfhLPQ5",
        "colab_type": "code",
        "colab": {
          "base_uri": "https://localhost:8080/",
          "height": 402
        },
        "outputId": "67bac5ef-7d4e-4e3d-9f0a-7d677d02295a"
      },
      "source": [
        "sales"
      ],
      "execution_count": null,
      "outputs": [
        {
          "output_type": "execute_result",
          "data": {
            "text/html": [
              "<div>\n",
              "<style scoped>\n",
              "    .dataframe tbody tr th:only-of-type {\n",
              "        vertical-align: middle;\n",
              "    }\n",
              "\n",
              "    .dataframe tbody tr th {\n",
              "        vertical-align: top;\n",
              "    }\n",
              "\n",
              "    .dataframe thead th {\n",
              "        text-align: right;\n",
              "    }\n",
              "</style>\n",
              "<table border=\"1\" class=\"dataframe\">\n",
              "  <thead>\n",
              "    <tr style=\"text-align: right;\">\n",
              "      <th></th>\n",
              "      <th>product_id</th>\n",
              "      <th>ordered_at</th>\n",
              "      <th>quantity_ordered</th>\n",
              "    </tr>\n",
              "  </thead>\n",
              "  <tbody>\n",
              "    <tr>\n",
              "      <th>0</th>\n",
              "      <td>3998909</td>\n",
              "      <td>9/18/18 17:51</td>\n",
              "      <td>1</td>\n",
              "    </tr>\n",
              "    <tr>\n",
              "      <th>1</th>\n",
              "      <td>3998909</td>\n",
              "      <td>9/18/18 12:52</td>\n",
              "      <td>1</td>\n",
              "    </tr>\n",
              "    <tr>\n",
              "      <th>2</th>\n",
              "      <td>3998909</td>\n",
              "      <td>9/18/18 11:33</td>\n",
              "      <td>1</td>\n",
              "    </tr>\n",
              "    <tr>\n",
              "      <th>3</th>\n",
              "      <td>3998909</td>\n",
              "      <td>9/18/18 18:47</td>\n",
              "      <td>1</td>\n",
              "    </tr>\n",
              "    <tr>\n",
              "      <th>4</th>\n",
              "      <td>3998909</td>\n",
              "      <td>9/18/18 17:36</td>\n",
              "      <td>1</td>\n",
              "    </tr>\n",
              "    <tr>\n",
              "      <th>...</th>\n",
              "      <td>...</td>\n",
              "      <td>...</td>\n",
              "      <td>...</td>\n",
              "    </tr>\n",
              "    <tr>\n",
              "      <th>170</th>\n",
              "      <td>4085861</td>\n",
              "      <td>9/13/18 23:29</td>\n",
              "      <td>1</td>\n",
              "    </tr>\n",
              "    <tr>\n",
              "      <th>171</th>\n",
              "      <td>64</td>\n",
              "      <td>9/11/18 19:32</td>\n",
              "      <td>1</td>\n",
              "    </tr>\n",
              "    <tr>\n",
              "      <th>172</th>\n",
              "      <td>64</td>\n",
              "      <td>9/14/18 20:10</td>\n",
              "      <td>1</td>\n",
              "    </tr>\n",
              "    <tr>\n",
              "      <th>173</th>\n",
              "      <td>64</td>\n",
              "      <td>9/12/18 16:00</td>\n",
              "      <td>1</td>\n",
              "    </tr>\n",
              "    <tr>\n",
              "      <th>174</th>\n",
              "      <td>64</td>\n",
              "      <td>9/12/18 13:23</td>\n",
              "      <td>1</td>\n",
              "    </tr>\n",
              "  </tbody>\n",
              "</table>\n",
              "<p>175 rows × 3 columns</p>\n",
              "</div>"
            ],
            "text/plain": [
              "     product_id     ordered_at  quantity_ordered\n",
              "0       3998909  9/18/18 17:51                 1\n",
              "1       3998909  9/18/18 12:52                 1\n",
              "2       3998909  9/18/18 11:33                 1\n",
              "3       3998909  9/18/18 18:47                 1\n",
              "4       3998909  9/18/18 17:36                 1\n",
              "..          ...            ...               ...\n",
              "170     4085861  9/13/18 23:29                 1\n",
              "171          64  9/11/18 19:32                 1\n",
              "172          64  9/14/18 20:10                 1\n",
              "173          64  9/12/18 16:00                 1\n",
              "174          64  9/12/18 13:23                 1\n",
              "\n",
              "[175 rows x 3 columns]"
            ]
          },
          "metadata": {
            "tags": []
          },
          "execution_count": 59
        }
      ]
    },
    {
      "cell_type": "markdown",
      "metadata": {
        "id": "nUG3NX6MDPNn",
        "colab_type": "text"
      },
      "source": [
        "Mearge price and sale dataframe to get the price of product"
      ]
    },
    {
      "cell_type": "code",
      "metadata": {
        "id": "3oBv6ZOVVJtH",
        "colab_type": "code",
        "colab": {}
      },
      "source": [
        "merge_prices_sales = pd.merge(sales,prices,how='left',on='product_id')\n",
        "merge_prices_sales['time_diff'] = (pd.to_datetime(merge_prices_sales['ordered_at'])- pd.to_datetime(merge_prices_sales['updated_at']))\n",
        "\n"
      ],
      "execution_count": null,
      "outputs": []
    },
    {
      "cell_type": "markdown",
      "metadata": {
        "id": "nNm2te-TDeJ6",
        "colab_type": "text"
      },
      "source": [
        "As there are many price ranges for a product we need to narrow down to find what is the correct price that we should be use to calculate the revenue for each transaction:\n",
        "\n",
        "1. To do it we will need to calculate the time different between the transaction time and the price's updated date.\n",
        "2. Based on this time difference, group each transaction by it product_id,ordered_at and get the min time difference for that group.\n",
        "This can reflect the nearest update time of the price of the product.\n",
        "3. Join the df back to the mearge table using product_id, ordered_at and time_diff\n",
        "4. Get the price from the mearge result to calculate the revenue.\n"
      ]
    },
    {
      "cell_type": "code",
      "metadata": {
        "id": "lL3ubF29eEvo",
        "colab_type": "code",
        "colab": {}
      },
      "source": [
        "mergered_group = merge_prices_sales[['product_id','ordered_at','quantity_ordered','old_price','new_price','time_diff']]\n",
        "mergered_group_min = mergered_group[['product_id','ordered_at','time_diff']].groupby(by=['product_id','ordered_at']).min()\n",
        "mergered_group_final = pd.merge(mergered_group_min,mergered_group,how='inner',on=['product_id','ordered_at','time_diff'])\n",
        "mergered_group_final['diff_in_sec'] = mergered_group_final['time_diff'].astype('timedelta64[s]')"
      ],
      "execution_count": null,
      "outputs": []
    },
    {
      "cell_type": "markdown",
      "metadata": {
        "id": "hia_Ic7CGNsm",
        "colab_type": "text"
      },
      "source": [
        "Split the dataframe in to 2 seperate dataframe:\n",
        "1. the transaction that using the old_price column.\n",
        "2. The transaction that using the new price column."
      ]
    },
    {
      "cell_type": "code",
      "metadata": {
        "id": "DbVI0lt4g4BZ",
        "colab_type": "code",
        "colab": {}
      },
      "source": [
        "mergered_group_final['is_old_price'] = mergered_group_final['diff_in_sec']<0\n",
        "mergered_group_final_old_price= mergered_group_final[mergered_group_final['is_old_price']]\n",
        "mergered_group_final_new_price= mergered_group_final[mergered_group_final['is_old_price']==False]"
      ],
      "execution_count": null,
      "outputs": []
    },
    {
      "cell_type": "code",
      "metadata": {
        "id": "eZJfzcTxlNul",
        "colab_type": "code",
        "colab": {}
      },
      "source": [
        "mergered_group_final_old_price = mergered_group_final_old_price[['product_id','old_price','quantity_ordered']]\n",
        "mergered_group_final_old_price.columns= ['product_id','price','quantity_ordered']\n"
      ],
      "execution_count": null,
      "outputs": []
    },
    {
      "cell_type": "code",
      "metadata": {
        "id": "LvqIRWDJm6Dr",
        "colab_type": "code",
        "colab": {}
      },
      "source": [
        "mergered_group_final_new_price = mergered_group_final_new_price[['product_id','new_price','quantity_ordered']]\n",
        "mergered_group_final_new_price.columns= ['product_id','price','quantity_ordered']\n"
      ],
      "execution_count": null,
      "outputs": []
    },
    {
      "cell_type": "markdown",
      "metadata": {
        "id": "CVEjvdgOG7iM",
        "colab_type": "text"
      },
      "source": [
        "Mearge 2 dataframe above into one final dataframe.\n",
        "Then calculate the revenue by multiply quantity by price.\n",
        "Group the data by product_id and price than sum up the revenue to get the revenue of each product by its price"
      ]
    },
    {
      "cell_type": "code",
      "metadata": {
        "id": "AE5bNwyUnCfr",
        "colab_type": "code",
        "colab": {
          "base_uri": "https://localhost:8080/",
          "height": 284
        },
        "outputId": "f5170a3b-f948-4ac4-cf06-6ab063f2901d"
      },
      "source": [
        "revenue_table = pd.concat([mergered_group_final_new_price,mergered_group_final_old_price])\n",
        "revenue_table[' revenue'] = revenue_table['price']*revenue_table['quantity_ordered']\n",
        "revenue_table.groupby(by=['product_id','price']).sum()"
      ],
      "execution_count": null,
      "outputs": [
        {
          "output_type": "execute_result",
          "data": {
            "text/html": [
              "<div>\n",
              "<style scoped>\n",
              "    .dataframe tbody tr th:only-of-type {\n",
              "        vertical-align: middle;\n",
              "    }\n",
              "\n",
              "    .dataframe tbody tr th {\n",
              "        vertical-align: top;\n",
              "    }\n",
              "\n",
              "    .dataframe thead th {\n",
              "        text-align: right;\n",
              "    }\n",
              "</style>\n",
              "<table border=\"1\" class=\"dataframe\">\n",
              "  <thead>\n",
              "    <tr style=\"text-align: right;\">\n",
              "      <th></th>\n",
              "      <th></th>\n",
              "      <th>quantity_ordered</th>\n",
              "      <th>revenue</th>\n",
              "    </tr>\n",
              "    <tr>\n",
              "      <th>product_id</th>\n",
              "      <th>price</th>\n",
              "      <th></th>\n",
              "      <th></th>\n",
              "    </tr>\n",
              "  </thead>\n",
              "  <tbody>\n",
              "    <tr>\n",
              "      <th>64</th>\n",
              "      <th>239000</th>\n",
              "      <td>4</td>\n",
              "      <td>956000</td>\n",
              "    </tr>\n",
              "    <tr>\n",
              "      <th rowspan=\"2\" valign=\"top\">3954203</th>\n",
              "      <th>57500</th>\n",
              "      <td>1</td>\n",
              "      <td>57500</td>\n",
              "    </tr>\n",
              "    <tr>\n",
              "      <th>60500</th>\n",
              "      <td>13</td>\n",
              "      <td>786500</td>\n",
              "    </tr>\n",
              "    <tr>\n",
              "      <th rowspan=\"2\" valign=\"top\">3998909</th>\n",
              "      <th>15500</th>\n",
              "      <td>3</td>\n",
              "      <td>46500</td>\n",
              "    </tr>\n",
              "    <tr>\n",
              "      <th>16500</th>\n",
              "      <td>14</td>\n",
              "      <td>231000</td>\n",
              "    </tr>\n",
              "    <tr>\n",
              "      <th rowspan=\"2\" valign=\"top\">4085861</th>\n",
              "      <th>52000</th>\n",
              "      <td>20</td>\n",
              "      <td>1040000</td>\n",
              "    </tr>\n",
              "    <tr>\n",
              "      <th>53500</th>\n",
              "      <td>123</td>\n",
              "      <td>6580500</td>\n",
              "    </tr>\n",
              "  </tbody>\n",
              "</table>\n",
              "</div>"
            ],
            "text/plain": [
              "                   quantity_ordered   revenue\n",
              "product_id price                             \n",
              "64         239000                 4    956000\n",
              "3954203    57500                  1     57500\n",
              "           60500                 13    786500\n",
              "3998909    15500                  3     46500\n",
              "           16500                 14    231000\n",
              "4085861    52000                 20   1040000\n",
              "           53500                123   6580500"
            ]
          },
          "metadata": {
            "tags": []
          },
          "execution_count": 120
        }
      ]
    }
  ]
}